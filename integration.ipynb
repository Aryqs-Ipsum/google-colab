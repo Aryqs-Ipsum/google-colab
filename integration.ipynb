{
  "nbformat": 4,
  "nbformat_minor": 0,
  "metadata": {
    "colab": {
      "name": "integration.ipynb",
      "provenance": [],
      "collapsed_sections": [],
      "authorship_tag": "ABX9TyNOY57ZkM8kyfg6anE9Y85x",
      "include_colab_link": true
    },
    "kernelspec": {
      "name": "python3",
      "display_name": "Python 3"
    },
    "language_info": {
      "name": "python"
    }
  },
  "cells": [
    {
      "cell_type": "markdown",
      "metadata": {
        "id": "view-in-github",
        "colab_type": "text"
      },
      "source": [
        "<a href=\"https://colab.research.google.com/github/Aryqs-Ipsum/google-colab/blob/main/integration.ipynb\" target=\"_parent\"><img src=\"https://colab.research.google.com/assets/colab-badge.svg\" alt=\"Open In Colab\"/></a>"
      ]
    },
    {
      "cell_type": "code",
      "metadata": {
        "id": "V1xtbC4BVb8W"
      },
      "source": [
        "import numpy as np\n",
        "import math\n",
        "\n",
        "# fonction f(x)\n",
        "# résultat attendu : 5.56\n",
        "def f(x):\n",
        "  return math.sqrt(x)\n",
        "\n",
        "# global values\n",
        "a = 2\n",
        "b = 5\n",
        "n = 10^9"
      ],
      "execution_count": 97,
      "outputs": []
    },
    {
      "cell_type": "markdown",
      "metadata": {
        "id": "BuW9MPUWVN5_"
      },
      "source": [
        "# Méthode des rectangles"
      ]
    },
    {
      "cell_type": "code",
      "metadata": {
        "colab": {
          "base_uri": "https://localhost:8080/"
        },
        "id": "TSQJgR7eVVlc",
        "outputId": "7ca56adb-a0a2-4054-bd06-15ac6035e7f7"
      },
      "source": [
        "def rectangles(a, b, n):\n",
        "  l = (b-a)/n\n",
        "  aire_min = 0\n",
        "  aire_maj = 0\n",
        "  for i in np.arange(a, b, l):\n",
        "    aire_min += l*f(i)\n",
        "    aire_maj += l*f(i+l)\n",
        "  return aire_min, aire_maj\n",
        "\n",
        "print(rectangles(a, b, n))\n"
      ],
      "execution_count": 85,
      "outputs": [
        {
          "output_type": "stream",
          "text": [
            "(5.146264369941973, 5.9681187850686666)\n"
          ],
          "name": "stdout"
        }
      ]
    },
    {
      "cell_type": "markdown",
      "metadata": {
        "id": "Ag9Nwkdzb7ZQ"
      },
      "source": [
        "# Méthode des trapèzes"
      ]
    },
    {
      "cell_type": "code",
      "metadata": {
        "colab": {
          "base_uri": "https://localhost:8080/"
        },
        "id": "MJrE0Vr6cA5_",
        "outputId": "3a333fcc-09bf-47c2-dc8f-08645b33b50d"
      },
      "source": [
        "def trapezes(a, b, n):\n",
        "  l = (b-a)/n\n",
        "  aire = 0\n",
        "  for i in np.arange(a, b, l):\n",
        "    base1 = f(i)\n",
        "    base2 = f(i+l)\n",
        "    aire += (base1 + base2) / 2 * l\n",
        "  return aire\n",
        "\n",
        "print(trapezes(a, b, n))\n"
      ],
      "execution_count": 86,
      "outputs": [
        {
          "output_type": "stream",
          "text": [
            "5.55719157750532\n"
          ],
          "name": "stdout"
        }
      ]
    },
    {
      "cell_type": "markdown",
      "metadata": {
        "id": "6S8k18xcUu2i"
      },
      "source": [
        "# Monte carlo"
      ]
    },
    {
      "cell_type": "code",
      "metadata": {
        "id": "UbSZMvdJUCBA",
        "colab": {
          "base_uri": "https://localhost:8080/",
          "height": 281
        },
        "outputId": "7b6eb841-8cd3-4bff-e6a2-986ac1c943ea"
      },
      "source": [
        "import random as rd\n",
        "import matplotlib.pyplot as plt\n",
        "\n",
        "def graph(xs, ys, res):\n",
        "  fig = plt.figure()\n",
        "  plt.title(res)\n",
        "  plt.scatter(xs, ys)\n",
        "\n",
        "def monte_carlo(a, b, ymin, ymax, n):\n",
        "  aire_rect = (b-a)*(ymax-ymin)\n",
        "  res = 0\n",
        "  pts_in = 0\n",
        "  xs = []\n",
        "  ys = []\n",
        "  for i in range(n):\n",
        "    x = a + (b-a) * rd.random()\n",
        "    y = ymin + (ymax-ymin) * rd.random()\n",
        "    if y <= f(x):\n",
        "      pts_in += 1\n",
        "      xs.append(x)\n",
        "      ys.append(y)\n",
        "  res = pts_in/n * aire_rect\n",
        "  graph(xs, ys, res)\n",
        "\n",
        "monte_carlo(a, b, 0, 2, 100)\n"
      ],
      "execution_count": 103,
      "outputs": [
        {
          "output_type": "display_data",
          "data": {
            "image/png": "[encoded data removed]",
            "text/plain": [
              "<Figure size 432x288 with 1 Axes>"
            ]
          },
          "metadata": {
            "tags": [],
            "needs_background": "light"
          }
        }
      ]
    }
  ]
}