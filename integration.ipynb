{
  "nbformat": 4,
  "nbformat_minor": 0,
  "metadata": {
    "colab": {
      "name": "integration.ipynb",
      "provenance": [],
      "collapsed_sections": [],
      "authorship_tag": "ABX9TyPpHY5eV4oYde1g/3lhH+gV",
      "include_colab_link": true
    },
    "kernelspec": {
      "name": "python3",
      "display_name": "Python 3"
    },
    "language_info": {
      "name": "python"
    }
  },
  "cells": [
    {
      "cell_type": "markdown",
      "metadata": {
        "id": "view-in-github",
        "colab_type": "text"
      },
      "source": [
        "<a href=\"https://colab.research.google.com/github/Aryqs-Ipsum/google-colab/blob/main/integration.ipynb\" target=\"_parent\"><img src=\"https://colab.research.google.com/assets/colab-badge.svg\" alt=\"Open In Colab\"/></a>"
      ]
    },
    {
      "cell_type": "code",
      "metadata": {
        "id": "V1xtbC4BVb8W"
      },
      "source": [
        "import numpy as np\n",
        "import math\n",
        "\n",
        "# fonction f(x)\n",
        "# résultat attendu : 5.56 (2, 5)\n",
        "def f(x):\n",
        "  return math.sqrt(x)\n",
        "\n",
        "# global n value\n",
        "n = 10^9"
      ],
      "execution_count": null,
      "outputs": []
    },
    {
      "cell_type": "markdown",
      "metadata": {
        "id": "BuW9MPUWVN5_"
      },
      "source": [
        "# Méthode des rectangles"
      ]
    },
    {
      "cell_type": "code",
      "metadata": {
        "colab": {
          "base_uri": "https://localhost:8080/"
        },
        "id": "TSQJgR7eVVlc",
        "outputId": "bd40b373-e10a-4ff1-d9ce-5af9bf4c41e3"
      },
      "source": [
        "def rectangles(a, b, n):\n",
        "  l = (b-a)/n\n",
        "  aire_min = 0\n",
        "  aire_maj = 0\n",
        "  for i in np.arange(a, b, l):\n",
        "    aire_min += l*f(i)\n",
        "    aire_maj += l*f(i+l)\n",
        "  return aire_min, aire_maj\n",
        "\n",
        "print(rectangles(2, 5, n))\n"
      ],
      "execution_count": null,
      "outputs": [
        {
          "output_type": "stream",
          "text": [
            "(5.146264369941973, 5.9681187850686666)\n"
          ],
          "name": "stdout"
        }
      ]
    },
    {
      "cell_type": "markdown",
      "metadata": {
        "id": "Ag9Nwkdzb7ZQ"
      },
      "source": [
        "# Méthode des trapèzes"
      ]
    },
    {
      "cell_type": "code",
      "metadata": {
        "colab": {
          "base_uri": "https://localhost:8080/"
        },
        "id": "MJrE0Vr6cA5_",
        "outputId": "c847eb57-c620-483c-d341-19d3661e4a35"
      },
      "source": [
        "def trapezes(a, b, n):\n",
        "  l = (b-a)/n\n",
        "  aire = 0\n",
        "  for i in np.arange(a, b, l):\n",
        "    base1 = f(i)\n",
        "    base2 = f(i+l)\n",
        "    aire += (base1 + base2) / 2 * l\n",
        "  return aire\n",
        "\n",
        "print(trapezes(2, 5, n))\n"
      ],
      "execution_count": null,
      "outputs": [
        {
          "output_type": "stream",
          "text": [
            "5.55719157750532\n"
          ],
          "name": "stdout"
        }
      ]
    },
    {
      "cell_type": "markdown",
      "metadata": {
        "id": "6S8k18xcUu2i"
      },
      "source": [
        "# Monte carlo"
      ]
    },
    {
      "cell_type": "code",
      "metadata": {
        "id": "UbSZMvdJUCBA"
      },
      "source": [
        "import random as rd\n",
        "import matplotlib.pyplot as plt \n",
        "\n",
        "def monte_carlo(a, b, ymin, ymax, n):\n",
        "  aire_rect = (b-a)*(ymax-ymin)\n",
        "  res = 0\n",
        "  pts_in = 0\n",
        "  for i in range(n):\n",
        "    x = a + (b-a) * rd.random()\n",
        "    y = ymin + (ymax-ymin) * rd.random()\n",
        "    if y <= f(x):\n",
        "      pts_in += 1\n",
        "  res = pts_in/n * aire_rect\n",
        "  plt.show()\n",
        "\n",
        "monte_carlo(2, 5, 0, 2, 10)\n"
      ],
      "execution_count": null,
      "outputs": []
    }
  ]
}